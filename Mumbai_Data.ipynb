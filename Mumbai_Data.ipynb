{
 "cells": [
  {
   "cell_type": "markdown",
   "metadata": {},
   "source": [
    "# IBM Data Science Specialisation Capstone Project\n",
    "#### Business Problem\n",
    "A pizza restaurant chain is looking for a place to open their first outlet in the city of Mumbai as an experimental run. If the campaign turns out to be successful, they might think about expanding their business in the city by opening more outlets. Naturally they are looking for a place that would be optimal for their experimental run.\n",
    "They have obtained a list of seven prime locations in the city where a store is available to be leased out. The restaurant chain wants to know which location would be the optimal in terms of sales.\n"
   ]
  },
  {
   "cell_type": "markdown",
   "metadata": {},
   "source": [
    "#### Data Section\n",
    "We had very little data to begin with. All that was provided to us were the latitudes and longitudes of seven locations and we were to give them which spot would be the best for their business.\n",
    "<table>\n",
    "  <tr>\n",
    "    <th>BranchID</th>\n",
    "    <th>Location</th>\n",
    "    <th>Latitude</th>\n",
    "    <th>Longitude</th>\n",
    "  </tr>\n",
    "  <tr>\n",
    "    <td>IIT001</td>\n",
    "    <td>IIT Area</td>\n",
    "    <td>19.134344</td>\n",
    "    <td>72.890891</td>\n",
    "  </tr>\n",
    "  <tr>\n",
    "    <td>ANE002</td>\n",
    "    <td>Andheri East</td>\n",
    "    <td>19.114737</td>\n",
    "    <td>72.850938</td>\n",
    "  </tr>\n",
    "  <tr>\n",
    "    <td>BRV003</td>\n",
    "    <td>Borivali</td>\n",
    "    <td>19.231771</td>\n",
    "    <td>72.828090</td>\n",
    "  </tr>\n",
    "  <tr>\n",
    "    <td>MUU004</td>\n",
    "    <td>University Area</td>\n",
    "    <td>19.102123</td>\n",
    "    <td>72.804951</td>\n",
    "  </tr>\n",
    "  <tr>\n",
    "    <td>BKC005</td>\n",
    "    <td>BKC Region</td>\n",
    "    <td>19.063391</td>\n",
    "    <td>72.851835</td>\n",
    "  </tr>\n",
    "  <tr>\n",
    "    <td>CHM006</td>\n",
    "    <td>Chembur East</td>\n",
    "    <td>19.020779</td>\n",
    "    <td>72.834109</td>\n",
    "  </tr>\n",
    "  <tr>\n",
    "    <td>CLB007</td>\n",
    "    <td>Colaba</td>\n",
    "    <td>18.922700</td>\n",
    "    <td>72.830696</td>\n",
    "  </tr>\n",
    "</table>"
   ]
  },
  {
   "cell_type": "markdown",
   "metadata": {},
   "source": [
    "Using the foursquare API, we managed to obtain just about enough information about each location so as to come up with an answer."
   ]
  }
 ],
 "metadata": {
  "kernelspec": {
   "display_name": "Python 3",
   "language": "python",
   "name": "python3"
  },
  "language_info": {
   "codemirror_mode": {
    "name": "ipython",
    "version": 3
   },
   "file_extension": ".py",
   "mimetype": "text/x-python",
   "name": "python",
   "nbconvert_exporter": "python",
   "pygments_lexer": "ipython3",
   "version": "3.7.1"
  }
 },
 "nbformat": 4,
 "nbformat_minor": 2
}
